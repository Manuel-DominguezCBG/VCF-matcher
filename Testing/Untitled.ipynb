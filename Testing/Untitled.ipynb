{
 "cells": [
  {
   "cell_type": "code",
   "execution_count": 4,
   "metadata": {},
   "outputs": [],
   "source": [
    "import pytest\n",
    "import os\n",
    "import argparse\n",
    "import pandas as pd\n",
    "import numpy as np\n",
    "\n",
    "\n",
    "# First test: Check if all row in the body of the vcf files are taken\n",
    "# The body of the vcf file has 10425 rows\n",
    "\n",
    "def load_body_vcf(PATH_file_name_vcf):\n",
    "    '''\n",
    "    Input: PATH/file_name.vcf\n",
    "    Return a pandas data frame with data\n",
    "    '''\n",
    "    with open(PATH_file_name_vcf, 'r') as f:\n",
    "        for line in f:\n",
    "            if line.startswith('#') and len(line)>2 and line[1] != '#':\n",
    "                columns = line[1:-1].split('\\t')\n",
    "                break\n",
    "    dataA = pd.read_csv(PATH_file_name_vcf, comment='#', delimiter='\\t', names=columns)\n",
    "\n",
    "def test_1():\n",
    "    load_body_vcf(\"/Users/monkiky/Desktop/VCF-matcher/Testing/test_sample.vcf\")\n",
    "    assert len(dataA) == 10425"
   ]
  },
  {
   "cell_type": "code",
   "execution_count": 5,
   "metadata": {},
   "outputs": [
    {
     "ename": "NameError",
     "evalue": "name 'dataA' is not defined",
     "output_type": "error",
     "traceback": [
      "\u001b[0;31m---------------------------------------------------------------------------\u001b[0m",
      "\u001b[0;31mNameError\u001b[0m                                 Traceback (most recent call last)",
      "\u001b[0;32m<ipython-input-5-9a746ad32906>\u001b[0m in \u001b[0;36m<module>\u001b[0;34m\u001b[0m\n\u001b[0;32m----> 1\u001b[0;31m \u001b[0mtest_1\u001b[0m\u001b[0;34m(\u001b[0m\u001b[0;34m)\u001b[0m\u001b[0;34m\u001b[0m\u001b[0;34m\u001b[0m\u001b[0m\n\u001b[0m",
      "\u001b[0;32m<ipython-input-4-f9d7fffb6ad9>\u001b[0m in \u001b[0;36mtest_1\u001b[0;34m()\u001b[0m\n\u001b[1;32m     23\u001b[0m \u001b[0;32mdef\u001b[0m \u001b[0mtest_1\u001b[0m\u001b[0;34m(\u001b[0m\u001b[0;34m)\u001b[0m\u001b[0;34m:\u001b[0m\u001b[0;34m\u001b[0m\u001b[0;34m\u001b[0m\u001b[0m\n\u001b[1;32m     24\u001b[0m     \u001b[0mload_body_vcf\u001b[0m\u001b[0;34m(\u001b[0m\u001b[0;34m\"/Users/monkiky/Desktop/VCF-matcher/Testing/test_sample.vcf\"\u001b[0m\u001b[0;34m)\u001b[0m\u001b[0;34m\u001b[0m\u001b[0;34m\u001b[0m\u001b[0m\n\u001b[0;32m---> 25\u001b[0;31m     \u001b[0;32massert\u001b[0m \u001b[0mlen\u001b[0m\u001b[0;34m(\u001b[0m\u001b[0mdataA\u001b[0m\u001b[0;34m)\u001b[0m \u001b[0;34m==\u001b[0m \u001b[0;36m10425\u001b[0m\u001b[0;34m\u001b[0m\u001b[0;34m\u001b[0m\u001b[0m\n\u001b[0m",
      "\u001b[0;31mNameError\u001b[0m: name 'dataA' is not defined"
     ]
    }
   ],
   "source": [
    "test_1()"
   ]
  },
  {
   "cell_type": "code",
   "execution_count": 38,
   "metadata": {},
   "outputs": [
    {
     "name": "stdout",
     "output_type": "stream",
     "text": [
      "It seems that test_sample.vcf has more than one sample. Please introduce the name of the sample you wish to analyse:  Sample_3\n"
     ]
    }
   ],
   "source": [
    "import pytest\n",
    "import os\n",
    "import argparse\n",
    "import pandas as pd\n",
    "import numpy as np\n",
    "\n",
    "\n",
    "# FIRST TEST: Check if all rows of the body of the vcf files are taken\n",
    "\n",
    "# The script that load and save the body of the vcf into a pandas data frame object\n",
    "NAME_FILE_1 = \"/Users/monkiky/Desktop/VCF-matcher/Testing/test_sample.vcf\"\n",
    "\n",
    "with open(NAME_FILE_1, 'r') as f:\n",
    "    for line in f:\n",
    "        if line.startswith('#') and len(line)>2 and line[1] != '#':\n",
    "            columns = line[1:-1].split('\\t')\n",
    "            break\n",
    "\n",
    "dataA = pd.read_csv(NAME_FILE_1, comment='#', delimiter='\\t', names=columns)\n",
    "\n",
    "def test_1():\n",
    "    assert len(dataA) == 10425 # The body of the vcf file has 10425 rows\n",
    "\n",
    "\n",
    "# SECOND TEST: Check if the code really distingues between sample with\n",
    "# 1 or more samples\n",
    "\n",
    "if len(dataA.columns) > 10:\n",
    "    Name_sample1 = input('It seems that {} has more than one sample. Please introduce the name of the sample you wish to analyse:  '.format(os.path.basename(NAME_FILE_1)))\n",
    "else:\n",
    "    print('File', os.path.basename(NAME_FILE_1), 'contains one sample only.')\n",
    "    Name_sample1 = dataA.columns.tolist()[9]\n",
    "\n",
    "def test_2():\n",
    "    assert Name_sample1 == \"Sample_1\" # This is a one-sample vcf file which sample has been called \"SAMPLE1\""
   ]
  },
  {
   "cell_type": "code",
   "execution_count": 39,
   "metadata": {},
   "outputs": [],
   "source": [
    "df2 = dataA[Name_sample1].str.split(':', expand=True)\n",
    "\n",
    "df2 = df2.fillna(value=np.nan)\n",
    "df2 = df2.dropna(axis=1, how='any')\n",
    "\n",
    "df2.columns = dataA.FORMAT.iloc[0].split(':')\n",
    "dataA = pd.concat([dataA, df2], axis=1)"
   ]
  },
  {
   "cell_type": "code",
   "execution_count": 40,
   "metadata": {},
   "outputs": [
    {
     "data": {
      "text/plain": [
       "5000"
      ]
     },
     "execution_count": 40,
     "metadata": {},
     "output_type": "execute_result"
    }
   ],
   "source": [
    "len(dataA.query('FILTER == \"PASS\"'))"
   ]
  },
  {
   "cell_type": "code",
   "execution_count": 41,
   "metadata": {},
   "outputs": [],
   "source": [
    "if \"VF\" in dataA.columns:\n",
    "    dataA[\"VF\"] = dataA[\"VF\"].astype(float)\n",
    "    dataA = dataA.query('VF > 0.4')"
   ]
  },
  {
   "cell_type": "code",
   "execution_count": 42,
   "metadata": {},
   "outputs": [
    {
     "data": {
      "text/plain": [
       "1811"
      ]
     },
     "execution_count": 42,
     "metadata": {},
     "output_type": "execute_result"
    }
   ],
   "source": [
    "len(dataA)"
   ]
  },
  {
   "cell_type": "code",
   "execution_count": 37,
   "metadata": {},
   "outputs": [
    {
     "data": {
      "text/html": [
       "<div>\n",
       "<style scoped>\n",
       "    .dataframe tbody tr th:only-of-type {\n",
       "        vertical-align: middle;\n",
       "    }\n",
       "\n",
       "    .dataframe tbody tr th {\n",
       "        vertical-align: top;\n",
       "    }\n",
       "\n",
       "    .dataframe thead th {\n",
       "        text-align: right;\n",
       "    }\n",
       "</style>\n",
       "<table border=\"1\" class=\"dataframe\">\n",
       "  <thead>\n",
       "    <tr style=\"text-align: right;\">\n",
       "      <th></th>\n",
       "      <th>0</th>\n",
       "      <th>1</th>\n",
       "      <th>2</th>\n",
       "      <th>3</th>\n",
       "      <th>4</th>\n",
       "      <th>5</th>\n",
       "      <th>6</th>\n",
       "    </tr>\n",
       "  </thead>\n",
       "  <tbody>\n",
       "    <tr>\n",
       "      <th>0</th>\n",
       "      <td>0/1</td>\n",
       "      <td>20</td>\n",
       "      <td>221,7</td>\n",
       "      <td>0.99</td>\n",
       "      <td>20</td>\n",
       "      <td>-10.2127</td>\n",
       "      <td>20</td>\n",
       "    </tr>\n",
       "    <tr>\n",
       "      <th>1</th>\n",
       "      <td>0/1</td>\n",
       "      <td>100</td>\n",
       "      <td>660,51</td>\n",
       "      <td>0.99</td>\n",
       "      <td>20</td>\n",
       "      <td>-0.0071</td>\n",
       "      <td>100</td>\n",
       "    </tr>\n",
       "    <tr>\n",
       "      <th>2</th>\n",
       "      <td>0/1</td>\n",
       "      <td>20</td>\n",
       "      <td>469,11</td>\n",
       "      <td>0.99</td>\n",
       "      <td>20</td>\n",
       "      <td>-0.0031</td>\n",
       "      <td>20</td>\n",
       "    </tr>\n",
       "    <tr>\n",
       "      <th>3</th>\n",
       "      <td>0/1</td>\n",
       "      <td>68</td>\n",
       "      <td>1005,31</td>\n",
       "      <td>0.99</td>\n",
       "      <td>20</td>\n",
       "      <td>-0.0166</td>\n",
       "      <td>68</td>\n",
       "    </tr>\n",
       "    <tr>\n",
       "      <th>4</th>\n",
       "      <td>0/1</td>\n",
       "      <td>67</td>\n",
       "      <td>3815,75</td>\n",
       "      <td>0.99</td>\n",
       "      <td>20</td>\n",
       "      <td>-0.0006</td>\n",
       "      <td>67</td>\n",
       "    </tr>\n",
       "    <tr>\n",
       "      <th>...</th>\n",
       "      <td>...</td>\n",
       "      <td>...</td>\n",
       "      <td>...</td>\n",
       "      <td>...</td>\n",
       "      <td>...</td>\n",
       "      <td>...</td>\n",
       "      <td>...</td>\n",
       "    </tr>\n",
       "    <tr>\n",
       "      <th>10391</th>\n",
       "      <td>0/1</td>\n",
       "      <td>100</td>\n",
       "      <td>3104,2737</td>\n",
       "      <td>0.4686</td>\n",
       "      <td>20</td>\n",
       "      <td>-100.0000</td>\n",
       "      <td>100</td>\n",
       "    </tr>\n",
       "    <tr>\n",
       "      <th>10392</th>\n",
       "      <td>0/1</td>\n",
       "      <td>100</td>\n",
       "      <td>2901,2864</td>\n",
       "      <td>0.4968</td>\n",
       "      <td>20</td>\n",
       "      <td>-100.0000</td>\n",
       "      <td>100</td>\n",
       "    </tr>\n",
       "    <tr>\n",
       "      <th>10396</th>\n",
       "      <td>1/1</td>\n",
       "      <td>100</td>\n",
       "      <td>11,7700</td>\n",
       "      <td>0.9983</td>\n",
       "      <td>20</td>\n",
       "      <td>-100.0000</td>\n",
       "      <td>100</td>\n",
       "    </tr>\n",
       "    <tr>\n",
       "      <th>10405</th>\n",
       "      <td>0/1</td>\n",
       "      <td>100</td>\n",
       "      <td>485,358</td>\n",
       "      <td>0.4247</td>\n",
       "      <td>20</td>\n",
       "      <td>-100.0000</td>\n",
       "      <td>100</td>\n",
       "    </tr>\n",
       "    <tr>\n",
       "      <th>10412</th>\n",
       "      <td>1/1</td>\n",
       "      <td>100</td>\n",
       "      <td>12,1413</td>\n",
       "      <td>0.9916</td>\n",
       "      <td>20</td>\n",
       "      <td>-100.0000</td>\n",
       "      <td>100</td>\n",
       "    </tr>\n",
       "  </tbody>\n",
       "</table>\n",
       "<p>1811 rows × 7 columns</p>\n",
       "</div>"
      ],
      "text/plain": [
       "         0    1          2       3   4          5    6\n",
       "0      0/1   20      221,7    0.99  20   -10.2127   20\n",
       "1      0/1  100     660,51    0.99  20    -0.0071  100\n",
       "2      0/1   20     469,11    0.99  20    -0.0031   20\n",
       "3      0/1   68    1005,31    0.99  20    -0.0166   68\n",
       "4      0/1   67    3815,75    0.99  20    -0.0006   67\n",
       "...    ...  ...        ...     ...  ..        ...  ...\n",
       "10391  0/1  100  3104,2737  0.4686  20  -100.0000  100\n",
       "10392  0/1  100  2901,2864  0.4968  20  -100.0000  100\n",
       "10396  1/1  100    11,7700  0.9983  20  -100.0000  100\n",
       "10405  0/1  100    485,358  0.4247  20  -100.0000  100\n",
       "10412  1/1  100    12,1413  0.9916  20  -100.0000  100\n",
       "\n",
       "[1811 rows x 7 columns]"
      ]
     },
     "execution_count": 37,
     "metadata": {},
     "output_type": "execute_result"
    }
   ],
   "source": []
  },
  {
   "cell_type": "code",
   "execution_count": null,
   "metadata": {},
   "outputs": [],
   "source": []
  }
 ],
 "metadata": {
  "kernelspec": {
   "display_name": "Python 3",
   "language": "python",
   "name": "python3"
  },
  "language_info": {
   "codemirror_mode": {
    "name": "ipython",
    "version": 3
   },
   "file_extension": ".py",
   "mimetype": "text/x-python",
   "name": "python",
   "nbconvert_exporter": "python",
   "pygments_lexer": "ipython3",
   "version": "3.8.5"
  }
 },
 "nbformat": 4,
 "nbformat_minor": 4
}
